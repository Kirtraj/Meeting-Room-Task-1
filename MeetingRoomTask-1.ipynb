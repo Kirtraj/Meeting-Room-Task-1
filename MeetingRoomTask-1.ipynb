{
 "cells": [
  {
   "cell_type": "code",
   "execution_count": 6,
   "metadata": {},
   "outputs": [
    {
     "name": "stdout",
     "output_type": "stream",
     "text": [
      "Requirement already satisfied: numpy in k:\\task1\\venv\\lib\\site-packages (1.26.4)\n",
      "Requirement already satisfied: opencv-python in k:\\task1\\venv\\lib\\site-packages (4.10.0.84)\n",
      "Requirement already satisfied: opencv-python-headless in k:\\task1\\venv\\lib\\site-packages (4.10.0.84)\n",
      "Requirement already satisfied: tensorflow in k:\\task1\\venv\\lib\\site-packages (2.17.0)\n",
      "Requirement already satisfied: keras in k:\\task1\\venv\\lib\\site-packages (3.4.1)\n",
      "Requirement already satisfied: matplotlib in k:\\task1\\venv\\lib\\site-packages (3.9.1)\n",
      "Requirement already satisfied: tensorflow-intel==2.17.0 in k:\\task1\\venv\\lib\\site-packages (from tensorflow) (2.17.0)\n",
      "Requirement already satisfied: absl-py>=1.0.0 in k:\\task1\\venv\\lib\\site-packages (from tensorflow-intel==2.17.0->tensorflow) (2.1.0)\n",
      "Requirement already satisfied: astunparse>=1.6.0 in k:\\task1\\venv\\lib\\site-packages (from tensorflow-intel==2.17.0->tensorflow) (1.6.3)\n",
      "Requirement already satisfied: flatbuffers>=24.3.25 in k:\\task1\\venv\\lib\\site-packages (from tensorflow-intel==2.17.0->tensorflow) (24.3.25)\n",
      "Requirement already satisfied: gast!=0.5.0,!=0.5.1,!=0.5.2,>=0.2.1 in k:\\task1\\venv\\lib\\site-packages (from tensorflow-intel==2.17.0->tensorflow) (0.6.0)\n",
      "Requirement already satisfied: google-pasta>=0.1.1 in k:\\task1\\venv\\lib\\site-packages (from tensorflow-intel==2.17.0->tensorflow) (0.2.0)\n",
      "Requirement already satisfied: h5py>=3.10.0 in k:\\task1\\venv\\lib\\site-packages (from tensorflow-intel==2.17.0->tensorflow) (3.11.0)\n",
      "Requirement already satisfied: libclang>=13.0.0 in k:\\task1\\venv\\lib\\site-packages (from tensorflow-intel==2.17.0->tensorflow) (18.1.1)\n",
      "Requirement already satisfied: ml-dtypes<0.5.0,>=0.3.1 in k:\\task1\\venv\\lib\\site-packages (from tensorflow-intel==2.17.0->tensorflow) (0.4.0)\n",
      "Requirement already satisfied: opt-einsum>=2.3.2 in k:\\task1\\venv\\lib\\site-packages (from tensorflow-intel==2.17.0->tensorflow) (3.3.0)\n",
      "Requirement already satisfied: packaging in k:\\task1\\venv\\lib\\site-packages (from tensorflow-intel==2.17.0->tensorflow) (24.1)\n",
      "Requirement already satisfied: protobuf!=4.21.0,!=4.21.1,!=4.21.2,!=4.21.3,!=4.21.4,!=4.21.5,<5.0.0dev,>=3.20.3 in k:\\task1\\venv\\lib\\site-packages (from tensorflow-intel==2.17.0->tensorflow) (4.25.3)\n",
      "Requirement already satisfied: requests<3,>=2.21.0 in k:\\task1\\venv\\lib\\site-packages (from tensorflow-intel==2.17.0->tensorflow) (2.32.3)\n",
      "Requirement already satisfied: setuptools in k:\\task1\\venv\\lib\\site-packages (from tensorflow-intel==2.17.0->tensorflow) (65.5.0)\n",
      "Requirement already satisfied: six>=1.12.0 in k:\\task1\\venv\\lib\\site-packages (from tensorflow-intel==2.17.0->tensorflow) (1.16.0)\n",
      "Requirement already satisfied: termcolor>=1.1.0 in k:\\task1\\venv\\lib\\site-packages (from tensorflow-intel==2.17.0->tensorflow) (2.4.0)\n",
      "Requirement already satisfied: typing-extensions>=3.6.6 in k:\\task1\\venv\\lib\\site-packages (from tensorflow-intel==2.17.0->tensorflow) (4.12.2)\n",
      "Requirement already satisfied: wrapt>=1.11.0 in k:\\task1\\venv\\lib\\site-packages (from tensorflow-intel==2.17.0->tensorflow) (1.16.0)\n",
      "Requirement already satisfied: grpcio<2.0,>=1.24.3 in k:\\task1\\venv\\lib\\site-packages (from tensorflow-intel==2.17.0->tensorflow) (1.65.1)\n",
      "Requirement already satisfied: tensorboard<2.18,>=2.17 in k:\\task1\\venv\\lib\\site-packages (from tensorflow-intel==2.17.0->tensorflow) (2.17.0)\n",
      "Requirement already satisfied: tensorflow-io-gcs-filesystem>=0.23.1 in k:\\task1\\venv\\lib\\site-packages (from tensorflow-intel==2.17.0->tensorflow) (0.31.0)\n",
      "Requirement already satisfied: rich in k:\\task1\\venv\\lib\\site-packages (from keras) (13.7.1)\n",
      "Requirement already satisfied: namex in k:\\task1\\venv\\lib\\site-packages (from keras) (0.0.8)\n",
      "Requirement already satisfied: optree in k:\\task1\\venv\\lib\\site-packages (from keras) (0.12.1)\n",
      "Requirement already satisfied: contourpy>=1.0.1 in k:\\task1\\venv\\lib\\site-packages (from matplotlib) (1.2.1)\n",
      "Requirement already satisfied: cycler>=0.10 in k:\\task1\\venv\\lib\\site-packages (from matplotlib) (0.12.1)\n",
      "Requirement already satisfied: fonttools>=4.22.0 in k:\\task1\\venv\\lib\\site-packages (from matplotlib) (4.53.1)\n",
      "Requirement already satisfied: kiwisolver>=1.3.1 in k:\\task1\\venv\\lib\\site-packages (from matplotlib) (1.4.5)\n",
      "Requirement already satisfied: pillow>=8 in k:\\task1\\venv\\lib\\site-packages (from matplotlib) (10.4.0)\n",
      "Requirement already satisfied: pyparsing>=2.3.1 in k:\\task1\\venv\\lib\\site-packages (from matplotlib) (3.1.2)\n",
      "Requirement already satisfied: python-dateutil>=2.7 in k:\\task1\\venv\\lib\\site-packages (from matplotlib) (2.9.0.post0)\n",
      "Requirement already satisfied: markdown-it-py>=2.2.0 in k:\\task1\\venv\\lib\\site-packages (from rich->keras) (3.0.0)\n",
      "Requirement already satisfied: pygments<3.0.0,>=2.13.0 in k:\\task1\\venv\\lib\\site-packages (from rich->keras) (2.18.0)\n",
      "Requirement already satisfied: wheel<1.0,>=0.23.0 in k:\\task1\\venv\\lib\\site-packages (from astunparse>=1.6.0->tensorflow-intel==2.17.0->tensorflow) (0.43.0)\n",
      "Requirement already satisfied: mdurl~=0.1 in k:\\task1\\venv\\lib\\site-packages (from markdown-it-py>=2.2.0->rich->keras) (0.1.2)\n",
      "Requirement already satisfied: charset-normalizer<4,>=2 in k:\\task1\\venv\\lib\\site-packages (from requests<3,>=2.21.0->tensorflow-intel==2.17.0->tensorflow) (3.3.2)\n",
      "Requirement already satisfied: idna<4,>=2.5 in k:\\task1\\venv\\lib\\site-packages (from requests<3,>=2.21.0->tensorflow-intel==2.17.0->tensorflow) (3.7)\n",
      "Requirement already satisfied: urllib3<3,>=1.21.1 in k:\\task1\\venv\\lib\\site-packages (from requests<3,>=2.21.0->tensorflow-intel==2.17.0->tensorflow) (2.2.2)\n",
      "Requirement already satisfied: certifi>=2017.4.17 in k:\\task1\\venv\\lib\\site-packages (from requests<3,>=2.21.0->tensorflow-intel==2.17.0->tensorflow) (2024.7.4)\n",
      "Requirement already satisfied: markdown>=2.6.8 in k:\\task1\\venv\\lib\\site-packages (from tensorboard<2.18,>=2.17->tensorflow-intel==2.17.0->tensorflow) (3.6)\n",
      "Requirement already satisfied: tensorboard-data-server<0.8.0,>=0.7.0 in k:\\task1\\venv\\lib\\site-packages (from tensorboard<2.18,>=2.17->tensorflow-intel==2.17.0->tensorflow) (0.7.2)\n",
      "Requirement already satisfied: werkzeug>=1.0.1 in k:\\task1\\venv\\lib\\site-packages (from tensorboard<2.18,>=2.17->tensorflow-intel==2.17.0->tensorflow) (3.0.3)\n",
      "Requirement already satisfied: MarkupSafe>=2.1.1 in k:\\task1\\venv\\lib\\site-packages (from werkzeug>=1.0.1->tensorboard<2.18,>=2.17->tensorflow-intel==2.17.0->tensorflow) (2.1.5)\n",
      "Note: you may need to restart the kernel to use updated packages.\n"
     ]
    }
   ],
   "source": [
    "pip install numpy opencv-python opencv-python-headless tensorflow keras matplotlib\n"
   ]
  },
  {
   "cell_type": "code",
   "execution_count": 7,
   "metadata": {},
   "outputs": [
    {
     "name": "stdout",
     "output_type": "stream",
     "text": [
      "  shirt_color    age\n",
      "0       black  child\n",
      "1         red     34\n",
      "2       black  child\n",
      "3        blue     56\n"
     ]
    }
   ],
   "source": [
    "import pandas as pd\n",
    "\n",
    "df = pd.DataFrame({\n",
    "    'shirt_color': ['black', 'red', 'black', 'blue'],\n",
    "    'age': [23, 34, 45, 56]\n",
    "})\n",
    "\n",
    "\n",
    "df['age'] = df['age'].astype(object)\n",
    "\n",
    "\n",
    "df.loc[df['shirt_color'] == 'black', 'age'] = 'child'\n",
    "\n",
    "print(df)\n"
   ]
  },
  {
   "cell_type": "code",
   "execution_count": 8,
   "metadata": {},
   "outputs": [
    {
     "name": "stderr",
     "output_type": "stream",
     "text": [
      "C:\\Users\\Kirtraj Tripathi\\AppData\\Local\\Temp\\ipykernel_13376\\753303515.py:23: FutureWarning: Setting an item of incompatible dtype is deprecated and will raise an error in a future version of pandas. Value 'child' has dtype incompatible with int32, please explicitly cast to a compatible dtype first.\n",
      "  df.loc[df['shirt_color'] == 'black', 'age'] = 'child'\n"
     ]
    }
   ],
   "source": [
    "import streamlit as st\n",
    "import pandas as pd\n",
    "import numpy as np\n",
    "\n",
    "def generate_synthetic_data(num_people):\n",
    "    # Generate synthetic data\n",
    "    genders = ['male', 'female']\n",
    "    ages = np.random.randint(18, 60, num_people)\n",
    "    shirt_colors = np.random.choice(['blue', 'white','black','yellow','orange','pink','purple','green', 'red'], num_people)\n",
    "\n",
    "    # Create DataFrame\n",
    "    data = {\n",
    "        'gender': np.random.choice(genders, num_people),\n",
    "        'age': ages,\n",
    "        'shirt_color': shirt_colors\n",
    "    }\n",
    "\n",
    "    return pd.DataFrame(data)\n",
    "\n",
    "def apply_rules(df):\n",
    "    # Apply rules for age based on shirt color\n",
    "    df.loc[df['shirt_color'] == 'white', 'age'] = 23\n",
    "    df.loc[df['shirt_color'] == 'black', 'age'] = 'child'\n",
    "    return df\n",
    "\n",
    "def detect_people_features(df):\n",
    "    # Check if there are at least 2 people in the meeting\n",
    "    if len(df) < 2:\n",
    "        st.write(\"Not enough people in the meeting\")\n",
    "        return\n",
    "    \n",
    "    # Count the number of males and females\n",
    "    male_count = len(df[df['gender'] == 'male'])\n",
    "    female_count = len(df[df['gender'] == 'female'])\n",
    "\n",
    "    # Display number of males and females in the meeting\n",
    "    st.write(\"Number of males in the meeting:\", male_count)\n",
    "    st.write(\"Number of females in the meeting:\", female_count)\n",
    "\n",
    "    # Display ages of individuals in the meeting\n",
    "    st.write(\"Ages of individuals in the meeting:\")\n",
    "    st.write(df[['gender', 'age']])\n",
    "\n",
    "# Main Streamlit app code\n",
    "def main():\n",
    "    st.title(\"MEETING ROOM FEATURE DETECTION\")\n",
    "    \n",
    "    # Generate synthetic data\n",
    "    num_people = st.slider(\"Number of people in the meeting\", min_value=1, max_value=200, value=10)\n",
    "    df = generate_synthetic_data(num_people)\n",
    "    \n",
    "    # Apply rules based on shirt color\n",
    "    df = apply_rules(df)\n",
    "    \n",
    "    # Detect people features and display results\n",
    "    detect_people_features(df)\n",
    "\n",
    "if __name__ == \"__main__\":\n",
    "    main()\n",
    "\n",
    "#streamlit run task1.py"
   ]
  }
 ],
 "metadata": {
  "kernelspec": {
   "display_name": "venv",
   "language": "python",
   "name": "python3"
  },
  "language_info": {
   "codemirror_mode": {
    "name": "ipython",
    "version": 3
   },
   "file_extension": ".py",
   "mimetype": "text/x-python",
   "name": "python",
   "nbconvert_exporter": "python",
   "pygments_lexer": "ipython3",
   "version": "3.11.9"
  }
 },
 "nbformat": 4,
 "nbformat_minor": 2
}
