{
 "cells": [
  {
   "cell_type": "code",
   "execution_count": null,
   "metadata": {},
   "outputs": [],
   "source": [
    "pip install numpy opencv-python opencv-python-headless tensorflow keras matplotlib\n"
   ]
  },
  {
   "cell_type": "code",
   "execution_count": 7,
   "metadata": {},
   "outputs": [
    {
     "name": "stdout",
     "output_type": "stream",
     "text": [
      "  shirt_color    age\n",
      "0       black  child\n",
      "1         red     34\n",
      "2       black  child\n",
      "3        blue     56\n"
     ]
    }
   ],
   "source": [
    "import pandas as pd\n",
    "\n",
    "df = pd.DataFrame({\n",
    "    'shirt_color': ['black', 'red', 'black', 'blue'],\n",
    "    'age': [23, 34, 45, 56]\n",
    "})\n",
    "\n",
    "\n",
    "df['age'] = df['age'].astype(object)\n",
    "\n",
    "\n",
    "df.loc[df['shirt_color'] == 'black', 'age'] = 'child'\n",
    "\n",
    "print(df)\n"
   ]
  },
  {
   "cell_type": "code",
   "execution_count": null,
   "metadata": {},
   "outputs": [],
   "source": [
    "import streamlit as st\n",
    "import pandas as pd\n",
    "import numpy as np\n",
    "\n",
    "def generate_synthetic_data(num_people):\n",
    "    # Generate synthetic data\n",
    "    genders = ['male', 'female']\n",
    "    ages = np.random.randint(18, 60, num_people)\n",
    "    shirt_colors = np.random.choice(['blue', 'white','black','yellow','orange','pink','purple','green', 'red'], num_people)\n",
    "\n",
    "    # Create DataFrame\n",
    "    data = {\n",
    "        'gender': np.random.choice(genders, num_people),\n",
    "        'age': ages,\n",
    "        'shirt_color': shirt_colors\n",
    "    }\n",
    "\n",
    "    return pd.DataFrame(data)\n",
    "\n",
    "def apply_rules(df):\n",
    "    # Apply rules for age based on shirt color\n",
    "    df.loc[df['shirt_color'] == 'white', 'age'] = 23\n",
    "    df.loc[df['shirt_color'] == 'black', 'age'] = 'child'\n",
    "    return df\n",
    "\n",
    "def detect_people_features(df):\n",
    "    # Check if there are at least 2 people in the meeting\n",
    "    if len(df) < 2:\n",
    "        st.write(\"Not enough people in the meeting\")\n",
    "        return\n",
    "    \n",
    "    # Count the number of males and females\n",
    "    male_count = len(df[df['gender'] == 'male'])\n",
    "    female_count = len(df[df['gender'] == 'female'])\n",
    "\n",
    "    # Display number of males and females in the meeting\n",
    "    st.write(\"Number of males in the meeting:\", male_count)\n",
    "    st.write(\"Number of females in the meeting:\", female_count)\n",
    "\n",
    "    # Display ages of individuals in the meeting\n",
    "    st.write(\"Ages of individuals in the meeting:\")\n",
    "    st.write(df[['gender', 'age']])\n",
    "\n",
    "# Main Streamlit app code\n",
    "def main():\n",
    "    st.title(\"MEETING ROOM FEATURE DETECTION\")\n",
    "    \n",
    "    # Generate synthetic data\n",
    "    num_people = st.slider(\"Number of people in the meeting\", min_value=1, max_value=200, value=10)\n",
    "    df = generate_synthetic_data(num_people)\n",
    "    \n",
    "    # Apply rules based on shirt color\n",
    "    df = apply_rules(df)\n",
    "    \n",
    "    # Detect people features and display results\n",
    "    detect_people_features(df)\n",
    "\n",
    "if __name__ == \"__main__\":\n",
    "    main()\n",
    "\n",
    "#streamlit run task1.py"
   ]
  }
 ],
 "metadata": {
  "kernelspec": {
   "display_name": "venv",
   "language": "python",
   "name": "python3"
  },
  "language_info": {
   "codemirror_mode": {
    "name": "ipython",
    "version": 3
   },
   "file_extension": ".py",
   "mimetype": "text/x-python",
   "name": "python",
   "nbconvert_exporter": "python",
   "pygments_lexer": "ipython3",
   "version": "3.11.9"
  }
 },
 "nbformat": 4,
 "nbformat_minor": 2
}
